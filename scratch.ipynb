{
 "cells": [
  {
   "cell_type": "markdown",
   "metadata": {
    "collapsed": true,
    "pycharm": {
     "name": "#%% md\n"
    }
   },
   "source": [
    "HELLO WORLD"
   ]
  },
  {
   "cell_type": "code",
   "execution_count": 2,
   "outputs": [
    {
     "name": "stdout",
     "output_type": "stream",
     "text": [
      "Requirement already satisfied: soundFile in /home/lleonard/.cache/pypoetry/virtualenvs/sound-visualizer-xBDH8glm-py3.9/lib/python3.9/site-packages (0.10.3.post1)\r\n",
      "Collecting numpy\r\n",
      "  Downloading numpy-1.19.4-cp39-cp39-manylinux2010_x86_64.whl (14.5 MB)\r\n",
      "\u001B[K     |████████████████████████████████| 14.5 MB 1.4 MB/s eta 0:00:01    |██▌                             | 1.2 MB 694 kB/s eta 0:00:20     |████████████████████▊           | 9.4 MB 4.6 MB/s eta 0:00:02\r\n",
      "\u001B[?25hRequirement already satisfied: cffi>=1.0 in /home/lleonard/.cache/pypoetry/virtualenvs/sound-visualizer-xBDH8glm-py3.9/lib/python3.9/site-packages (from soundFile) (1.14.3)\r\n",
      "Requirement already satisfied: pycparser in /home/lleonard/.cache/pypoetry/virtualenvs/sound-visualizer-xBDH8glm-py3.9/lib/python3.9/site-packages (from cffi>=1.0->soundFile) (2.20)\r\n",
      "Installing collected packages: numpy\r\n",
      "Successfully installed numpy-1.19.4\r\n",
      "\u001B[33mWARNING: You are using pip version 20.2.2; however, version 20.2.4 is available.\r\n",
      "You should consider upgrading via the '/home/lleonard/.cache/pypoetry/virtualenvs/sound-visualizer-xBDH8glm-py3.9/bin/python -m pip install --upgrade pip' command.\u001B[0m\r\n",
      "Note: you may need to restart the kernel to use updated packages.\n"
     ]
    }
   ],
   "source": [
    "%pip install soundFile numpy"
   ],
   "metadata": {
    "collapsed": false,
    "pycharm": {
     "name": "#%%\n"
    }
   }
  },
  {
   "cell_type": "code",
   "execution_count": null,
   "outputs": [],
   "source": [
    "import soundfile as sf\n",
    "\n",
    "data, sample_rate = sf.read('sounds/BreakingGlass.wav')\n"
   ],
   "metadata": {
    "collapsed": false,
    "pycharm": {
     "name": "#%%\n"
    }
   }
  }
 ],
 "metadata": {
  "kernelspec": {
   "display_name": "Python 3",
   "language": "python",
   "name": "python3"
  },
  "language_info": {
   "codemirror_mode": {
    "name": "ipython",
    "version": 2
   },
   "file_extension": ".py",
   "mimetype": "text/x-python",
   "name": "python",
   "nbconvert_exporter": "python",
   "pygments_lexer": "ipython2",
   "version": "2.7.6"
  }
 },
 "nbformat": 4,
 "nbformat_minor": 0
}